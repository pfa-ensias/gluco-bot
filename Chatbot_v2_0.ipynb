{
  "cells": [
    {
      "cell_type": "code",
      "source": [
        "!pip install --upgrade pip"
      ],
      "metadata": {
        "colab": {
          "base_uri": "https://localhost:8080/"
        },
        "id": "nLMpBVFzOL3q",
        "outputId": "f55c9e33-aec8-45b9-cade-f5674cbe5c52"
      },
      "execution_count": null,
      "outputs": [
        {
          "output_type": "stream",
          "name": "stdout",
          "text": [
            "Looking in indexes: https://pypi.org/simple, https://us-python.pkg.dev/colab-wheels/public/simple/\n",
            "Requirement already satisfied: pip in /usr/local/lib/python3.10/dist-packages (23.1.2)\n"
          ]
        }
      ]
    },
    {
      "cell_type": "code",
      "execution_count": null,
      "metadata": {
        "colab": {
          "base_uri": "https://localhost:8080/"
        },
        "id": "XysYOMEj2L3j",
        "outputId": "443f28a5-af2b-4884-f2b9-4051b7c3bf0c"
      },
      "outputs": [
        {
          "output_type": "stream",
          "name": "stdout",
          "text": [
            "Looking in indexes: https://pypi.org/simple, https://us-python.pkg.dev/colab-wheels/public/simple/\n",
            "Collecting rasa==3.5.10\n",
            "  Downloading rasa-3.5.10-py3-none-any.whl (823 kB)\n",
            "\u001b[2K     \u001b[90m━━━━━━━━━━━━━━━━━━━━━━━━━━━━━━━━━━━━━━\u001b[0m \u001b[32m823.9/823.9 kB\u001b[0m \u001b[31m32.2 MB/s\u001b[0m eta \u001b[36m0:00:00\u001b[0m\n",
            "\u001b[?25hRequirement already satisfied: CacheControl<0.13.0,>=0.12.9 in /usr/local/lib/python3.10/dist-packages (from rasa==3.5.10) (0.12.11)\n",
            "Requirement already satisfied: PyJWT[crypto]<3.0.0,>=2.0.0 in /usr/local/lib/python3.10/dist-packages (from rasa==3.5.10) (2.7.0)\n",
            "Requirement already satisfied: SQLAlchemy<1.5.0,>=1.4.0 in /usr/local/lib/python3.10/dist-packages (from rasa==3.5.10) (1.4.48)\n",
            "Requirement already satisfied: absl-py<1.4,>=0.9 in /usr/local/lib/python3.10/dist-packages (from rasa==3.5.10) (1.3.0)\n",
            "Collecting aio-pika<8.2.4,>=6.7.1 (from rasa==3.5.10)\n",
            "  Downloading aio_pika-8.2.3-py3-none-any.whl (49 kB)\n",
            "\u001b[2K     \u001b[90m━━━━━━━━━━━━━━━━━━━━━━━━━━━━━━━━━━━━━━━━\u001b[0m \u001b[32m50.0/50.0 kB\u001b[0m \u001b[31m5.8 MB/s\u001b[0m eta \u001b[36m0:00:00\u001b[0m\n",
            "\u001b[?25hRequirement already satisfied: aiogram<2.26 in /usr/local/lib/python3.10/dist-packages (from rasa==3.5.10) (2.23.1)\n",
            "Requirement already satisfied: aiohttp!=3.7.4.post0,<3.9,>=3.6 in /usr/local/lib/python3.10/dist-packages (from rasa==3.5.10) (3.8.4)\n",
            "Requirement already satisfied: apscheduler<3.10,>=3.6 in /usr/local/lib/python3.10/dist-packages (from rasa==3.5.10) (3.9.1.post1)\n",
            "Requirement already satisfied: attrs<22.2,>=19.3 in /usr/local/lib/python3.10/dist-packages (from rasa==3.5.10) (22.1.0)\n",
            "Requirement already satisfied: boto3<2.0,>=1.12 in /usr/local/lib/python3.10/dist-packages (from rasa==3.5.10) (1.26.142)\n",
            "Requirement already satisfied: cloudpickle<2.3,>=1.2 in /usr/local/lib/python3.10/dist-packages (from rasa==3.5.10) (2.2.1)\n",
            "Requirement already satisfied: colorclass<2.3,>=2.2 in /usr/local/lib/python3.10/dist-packages (from rasa==3.5.10) (2.2.2)\n",
            "Requirement already satisfied: coloredlogs<16,>=10 in /usr/local/lib/python3.10/dist-packages (from rasa==3.5.10) (15.0.1)\n",
            "Requirement already satisfied: colorhash<1.3.0,>=1.0.2 in /usr/local/lib/python3.10/dist-packages (from rasa==3.5.10) (1.2.1)\n",
            "Requirement already satisfied: confluent-kafka<2.0.0,>=1.9.2 in /usr/local/lib/python3.10/dist-packages (from rasa==3.5.10) (1.9.2)\n",
            "Requirement already satisfied: dask==2022.10.2 in /usr/local/lib/python3.10/dist-packages (from rasa==3.5.10) (2022.10.2)\n",
            "Requirement already satisfied: fbmessenger<6.1.0,>=6.0.0 in /usr/local/lib/python3.10/dist-packages (from rasa==3.5.10) (6.0.0)\n",
            "Requirement already satisfied: google-auth<3 in /usr/local/lib/python3.10/dist-packages (from rasa==3.5.10) (2.17.3)\n",
            "Requirement already satisfied: joblib<1.3.0,>=0.15.1 in /usr/local/lib/python3.10/dist-packages (from rasa==3.5.10) (1.2.0)\n",
            "Requirement already satisfied: jsonpickle<3.1,>=1.3 in /usr/local/lib/python3.10/dist-packages (from rasa==3.5.10) (2.2.0)\n",
            "Requirement already satisfied: jsonschema<4.18,>=3.2 in /usr/local/lib/python3.10/dist-packages (from rasa==3.5.10) (4.3.3)\n",
            "Requirement already satisfied: matplotlib<3.6,>=3.1 in /usr/local/lib/python3.10/dist-packages (from rasa==3.5.10) (3.5.3)\n",
            "Requirement already satisfied: mattermostwrapper<2.3,>=2.2 in /usr/local/lib/python3.10/dist-packages (from rasa==3.5.10) (2.2)\n",
            "Requirement already satisfied: networkx<2.7,>=2.4 in /usr/local/lib/python3.10/dist-packages (from rasa==3.5.10) (2.6.3)\n",
            "Requirement already satisfied: numpy<1.25.0,>=1.19.2 in /usr/local/lib/python3.10/dist-packages (from rasa==3.5.10) (1.22.4)\n",
            "Requirement already satisfied: packaging<21.0,>=20.0 in /usr/local/lib/python3.10/dist-packages (from rasa==3.5.10) (20.9)\n",
            "Requirement already satisfied: pluggy<2.0.0,>=1.0.0 in /usr/local/lib/python3.10/dist-packages (from rasa==3.5.10) (1.0.0)\n",
            "Collecting portalocker<3.0.0,>=2.7.0 (from rasa==3.5.10)\n",
            "  Downloading portalocker-2.7.0-py2.py3-none-any.whl (15 kB)\n",
            "Requirement already satisfied: prompt-toolkit<3.0.29,>=3.0 in /usr/local/lib/python3.10/dist-packages (from rasa==3.5.10) (3.0.28)\n",
            "Requirement already satisfied: protobuf<3.20,>=3.9.2 in /usr/local/lib/python3.10/dist-packages (from rasa==3.5.10) (3.19.6)\n",
            "Requirement already satisfied: psycopg2-binary<2.10.0,>=2.8.2 in /usr/local/lib/python3.10/dist-packages (from rasa==3.5.10) (2.9.6)\n",
            "Collecting pydantic<1.10.3 (from rasa==3.5.10)\n",
            "  Downloading pydantic-1.10.2-cp310-cp310-manylinux_2_17_x86_64.manylinux2014_x86_64.whl (12.8 MB)\n",
            "\u001b[2K     \u001b[90m━━━━━━━━━━━━━━━━━━━━━━━━━━━━━━━━━━━━━━━━\u001b[0m \u001b[32m12.8/12.8 MB\u001b[0m \u001b[31m34.8 MB/s\u001b[0m eta \u001b[36m0:00:00\u001b[0m\n",
            "\u001b[?25hRequirement already satisfied: pydot<1.5,>=1.4 in /usr/local/lib/python3.10/dist-packages (from rasa==3.5.10) (1.4.2)\n",
            "Requirement already satisfied: pykwalify<1.9,>=1.7 in /usr/local/lib/python3.10/dist-packages (from rasa==3.5.10) (1.8.0)\n",
            "Requirement already satisfied: pymongo[srv,tls]<3.11,>=3.8 in /usr/local/lib/python3.10/dist-packages (from rasa==3.5.10) (3.10.1)\n",
            "Requirement already satisfied: python-dateutil<2.9,>=2.8 in /usr/local/lib/python3.10/dist-packages (from rasa==3.5.10) (2.8.2)\n",
            "Requirement already satisfied: python-engineio!=5.0.0,<6,>=4 in /usr/local/lib/python3.10/dist-packages (from rasa==3.5.10) (4.4.1)\n",
            "Requirement already satisfied: python-socketio<6,>=4.4 in /usr/local/lib/python3.10/dist-packages (from rasa==3.5.10) (5.8.0)\n",
            "Requirement already satisfied: pytz<2023.0,>=2019.1 in /usr/local/lib/python3.10/dist-packages (from rasa==3.5.10) (2022.7.1)\n",
            "Requirement already satisfied: questionary<1.11.0,>=1.5.1 in /usr/local/lib/python3.10/dist-packages (from rasa==3.5.10) (1.10.0)\n",
            "Requirement already satisfied: randomname<0.2.0,>=0.1.5 in /usr/local/lib/python3.10/dist-packages (from rasa==3.5.10) (0.1.5)\n",
            "Collecting rasa-sdk<3.6.0,>=3.5.0 (from rasa==3.5.10)\n",
            "  Downloading rasa_sdk-3.5.1-py3-none-any.whl (43 kB)\n",
            "\u001b[2K     \u001b[90m━━━━━━━━━━━━━━━━━━━━━━━━━━━━━━━━━━━━━━━━\u001b[0m \u001b[32m43.7/43.7 kB\u001b[0m \u001b[31m4.8 MB/s\u001b[0m eta \u001b[36m0:00:00\u001b[0m\n",
            "\u001b[?25hRequirement already satisfied: redis<5.0,>=4.5.3 in /usr/local/lib/python3.10/dist-packages (from rasa==3.5.10) (4.5.5)\n",
            "Requirement already satisfied: regex<2022.11,>=2020.6 in /usr/local/lib/python3.10/dist-packages (from rasa==3.5.10) (2022.10.31)\n",
            "Requirement already satisfied: requests<3.0,>=2.23 in /usr/local/lib/python3.10/dist-packages (from rasa==3.5.10) (2.27.1)\n",
            "Requirement already satisfied: rocketchat_API<1.29.0,>=0.6.31 in /usr/local/lib/python3.10/dist-packages (from rasa==3.5.10) (1.28.1)\n",
            "Requirement already satisfied: ruamel.yaml<0.18.0,>=0.16.5 in /usr/local/lib/python3.10/dist-packages (from rasa==3.5.10) (0.17.28)\n",
            "Requirement already satisfied: sanic<21.13,>=21.12 in /usr/local/lib/python3.10/dist-packages (from rasa==3.5.10) (21.12.2)\n",
            "Requirement already satisfied: sanic-cors<2.1.0,>=2.0.0 in /usr/local/lib/python3.10/dist-packages (from rasa==3.5.10) (2.0.1)\n",
            "Requirement already satisfied: sanic-jwt<2.0.0,>=1.6.0 in /usr/local/lib/python3.10/dist-packages (from rasa==3.5.10) (1.8.0)\n",
            "Requirement already satisfied: sanic-routing<0.8.0,>=0.7.2 in /usr/local/lib/python3.10/dist-packages (from rasa==3.5.10) (0.7.2)\n",
            "Requirement already satisfied: scikit-learn<1.2,>=0.22 in /usr/local/lib/python3.10/dist-packages (from rasa==3.5.10) (1.1.3)\n",
            "Requirement already satisfied: scipy<1.9.0,>=1.4.1 in /usr/local/lib/python3.10/dist-packages (from rasa==3.5.10) (1.8.1)\n",
            "Requirement already satisfied: sentry-sdk<1.15.0,>=0.17.0 in /usr/local/lib/python3.10/dist-packages (from rasa==3.5.10) (1.11.1)\n",
            "Requirement already satisfied: setuptools>=41.0.0 in /usr/local/lib/python3.10/dist-packages (from rasa==3.5.10) (67.7.2)\n",
            "Requirement already satisfied: sklearn-crfsuite<0.4,>=0.3 in /usr/local/lib/python3.10/dist-packages (from rasa==3.5.10) (0.3.6)\n",
            "Requirement already satisfied: slack-sdk<4.0.0,>=3.19.2 in /usr/local/lib/python3.10/dist-packages (from rasa==3.5.10) (3.21.3)\n",
            "Requirement already satisfied: tarsafe<0.0.4,>=0.0.3 in /usr/local/lib/python3.10/dist-packages (from rasa==3.5.10) (0.0.3)\n",
            "Collecting tensorflow==2.11.0 (from rasa==3.5.10)\n",
            "  Downloading tensorflow-2.11.0-cp310-cp310-manylinux_2_17_x86_64.manylinux2014_x86_64.whl (588.3 MB)\n",
            "\u001b[2K     \u001b[90m━━━━━━━━━━━━━━━━━━━━━━━━━━━━━━━━━━━━━━━\u001b[0m \u001b[32m588.3/588.3 MB\u001b[0m \u001b[31m1.9 MB/s\u001b[0m eta \u001b[36m0:00:00\u001b[0m\n",
            "\u001b[?25hCollecting tensorflow-addons<0.20,>=0.18 (from rasa==3.5.10)\n",
            "  Downloading tensorflow_addons-0.19.0-cp310-cp310-manylinux_2_17_x86_64.manylinux2014_x86_64.whl (1.1 MB)\n",
            "\u001b[2K     \u001b[90m━━━━━━━━━━━━━━━━━━━━━━━━━━━━━━━━━━━━━━━━\u001b[0m \u001b[32m1.1/1.1 MB\u001b[0m \u001b[31m54.8 MB/s\u001b[0m eta \u001b[36m0:00:00\u001b[0m\n",
            "\u001b[?25hCollecting tensorflow-text==2.11.0 (from rasa==3.5.10)\n",
            "  Downloading tensorflow_text-2.11.0-cp310-cp310-manylinux_2_17_x86_64.manylinux2014_x86_64.whl (5.8 MB)\n",
            "\u001b[2K     \u001b[90m━━━━━━━━━━━━━━━━━━━━━━━━━━━━━━━━━━━━━━━━\u001b[0m \u001b[32m5.8/5.8 MB\u001b[0m \u001b[31m58.0 MB/s\u001b[0m eta \u001b[36m0:00:00\u001b[0m\n",
            "\u001b[?25hRequirement already satisfied: tensorflow_hub<0.13.0,>=0.12.0 in /usr/local/lib/python3.10/dist-packages (from rasa==3.5.10) (0.12.0)\n",
            "Requirement already satisfied: terminaltables<3.2.0,>=3.1.0 in /usr/local/lib/python3.10/dist-packages (from rasa==3.5.10) (3.1.10)\n",
            "Requirement already satisfied: tqdm<5.0,>=4.31 in /usr/local/lib/python3.10/dist-packages (from rasa==3.5.10) (4.65.0)\n",
            "Requirement already satisfied: twilio<7.15,>=6.26 in /usr/local/lib/python3.10/dist-packages (from rasa==3.5.10) (7.14.2)\n",
            "Requirement already satisfied: typing-extensions<5.0.0,>=4.1.1 in /usr/local/lib/python3.10/dist-packages (from rasa==3.5.10) (4.5.0)\n",
            "Requirement already satisfied: typing-utils<0.2.0,>=0.1.0 in /usr/local/lib/python3.10/dist-packages (from rasa==3.5.10) (0.1.0)\n",
            "Requirement already satisfied: ujson<6.0,>=1.35 in /usr/local/lib/python3.10/dist-packages (from rasa==3.5.10) (5.7.0)\n",
            "Requirement already satisfied: webexteamssdk<1.7.0,>=1.1.1 in /usr/local/lib/python3.10/dist-packages (from rasa==3.5.10) (1.6.1)\n",
            "Collecting websockets<11.0,>=10.0 (from rasa==3.5.10)\n",
            "  Downloading websockets-10.4-cp310-cp310-manylinux_2_5_x86_64.manylinux1_x86_64.manylinux_2_17_x86_64.manylinux2014_x86_64.whl (106 kB)\n",
            "\u001b[2K     \u001b[90m━━━━━━━━━━━━━━━━━━━━━━━━━━━━━━━━━━━━━━\u001b[0m \u001b[32m106.8/106.8 kB\u001b[0m \u001b[31m11.0 MB/s\u001b[0m eta \u001b[36m0:00:00\u001b[0m\n",
            "\u001b[?25hRequirement already satisfied: click>=7.0 in /usr/local/lib/python3.10/dist-packages (from dask==2022.10.2->rasa==3.5.10) (8.1.3)\n",
            "Requirement already satisfied: fsspec>=0.6.0 in /usr/local/lib/python3.10/dist-packages (from dask==2022.10.2->rasa==3.5.10) (2023.4.0)\n",
            "Requirement already satisfied: partd>=0.3.10 in /usr/local/lib/python3.10/dist-packages (from dask==2022.10.2->rasa==3.5.10) (1.4.0)\n",
            "Requirement already satisfied: pyyaml>=5.3.1 in /usr/local/lib/python3.10/dist-packages (from dask==2022.10.2->rasa==3.5.10) (6.0)\n",
            "Requirement already satisfied: toolz>=0.8.2 in /usr/local/lib/python3.10/dist-packages (from dask==2022.10.2->rasa==3.5.10) (0.12.0)\n",
            "Requirement already satisfied: astunparse>=1.6.0 in /usr/local/lib/python3.10/dist-packages (from tensorflow==2.11.0->rasa==3.5.10) (1.6.3)\n",
            "Requirement already satisfied: flatbuffers>=2.0 in /usr/local/lib/python3.10/dist-packages (from tensorflow==2.11.0->rasa==3.5.10) (23.3.3)\n",
            "Requirement already satisfied: gast<=0.4.0,>=0.2.1 in /usr/local/lib/python3.10/dist-packages (from tensorflow==2.11.0->rasa==3.5.10) (0.4.0)\n",
            "Requirement already satisfied: google-pasta>=0.1.1 in /usr/local/lib/python3.10/dist-packages (from tensorflow==2.11.0->rasa==3.5.10) (0.2.0)\n",
            "Requirement already satisfied: grpcio<2.0,>=1.24.3 in /usr/local/lib/python3.10/dist-packages (from tensorflow==2.11.0->rasa==3.5.10) (1.54.0)\n",
            "Requirement already satisfied: h5py>=2.9.0 in /usr/local/lib/python3.10/dist-packages (from tensorflow==2.11.0->rasa==3.5.10) (3.8.0)\n",
            "Collecting keras<2.12,>=2.11.0 (from tensorflow==2.11.0->rasa==3.5.10)\n",
            "  Downloading keras-2.11.0-py2.py3-none-any.whl (1.7 MB)\n",
            "\u001b[2K     \u001b[90m━━━━━━━━━━━━━━━━━━━━━━━━━━━━━━━━━━━━━━━━\u001b[0m \u001b[32m1.7/1.7 MB\u001b[0m \u001b[31m63.5 MB/s\u001b[0m eta \u001b[36m0:00:00\u001b[0m\n",
            "\u001b[?25hRequirement already satisfied: libclang>=13.0.0 in /usr/local/lib/python3.10/dist-packages (from tensorflow==2.11.0->rasa==3.5.10) (16.0.0)\n",
            "Requirement already satisfied: opt-einsum>=2.3.2 in /usr/local/lib/python3.10/dist-packages (from tensorflow==2.11.0->rasa==3.5.10) (3.3.0)\n",
            "Requirement already satisfied: six>=1.12.0 in /usr/local/lib/python3.10/dist-packages (from tensorflow==2.11.0->rasa==3.5.10) (1.16.0)\n",
            "Collecting tensorboard<2.12,>=2.11 (from tensorflow==2.11.0->rasa==3.5.10)\n",
            "  Downloading tensorboard-2.11.2-py3-none-any.whl (6.0 MB)\n",
            "\u001b[2K     \u001b[90m━━━━━━━━━━━━━━━━━━━━━━━━━━━━━━━━━━━━━━━━\u001b[0m \u001b[32m6.0/6.0 MB\u001b[0m \u001b[31m75.6 MB/s\u001b[0m eta \u001b[36m0:00:00\u001b[0m\n",
            "\u001b[?25hCollecting tensorflow-estimator<2.12,>=2.11.0 (from tensorflow==2.11.0->rasa==3.5.10)\n",
            "  Downloading tensorflow_estimator-2.11.0-py2.py3-none-any.whl (439 kB)\n",
            "\u001b[2K     \u001b[90m━━━━━━━━━━━━━━━━━━━━━━━━━━━━━━━━━━━━━━\u001b[0m \u001b[32m439.2/439.2 kB\u001b[0m \u001b[31m34.7 MB/s\u001b[0m eta \u001b[36m0:00:00\u001b[0m\n",
            "\u001b[?25hRequirement already satisfied: termcolor>=1.1.0 in /usr/local/lib/python3.10/dist-packages (from tensorflow==2.11.0->rasa==3.5.10) (2.3.0)\n",
            "Requirement already satisfied: wrapt>=1.11.0 in /usr/local/lib/python3.10/dist-packages (from tensorflow==2.11.0->rasa==3.5.10) (1.14.1)\n",
            "Requirement already satisfied: tensorflow-io-gcs-filesystem>=0.23.1 in /usr/local/lib/python3.10/dist-packages (from tensorflow==2.11.0->rasa==3.5.10) (0.32.0)\n",
            "Collecting aiormq~=6.4.0 (from aio-pika<8.2.4,>=6.7.1->rasa==3.5.10)\n",
            "  Downloading aiormq-6.4.2-py3-none-any.whl (34 kB)\n",
            "Requirement already satisfied: yarl in /usr/local/lib/python3.10/dist-packages (from aio-pika<8.2.4,>=6.7.1->rasa==3.5.10) (1.9.2)\n",
            "Requirement already satisfied: Babel<2.10.0,>=2.9.1 in /usr/local/lib/python3.10/dist-packages (from aiogram<2.26->rasa==3.5.10) (2.9.1)\n",
            "Requirement already satisfied: certifi>=2021.10.8 in /usr/local/lib/python3.10/dist-packages (from aiogram<2.26->rasa==3.5.10) (2022.12.7)\n",
            "Requirement already satisfied: magic-filter>=1.0.9 in /usr/local/lib/python3.10/dist-packages (from aiogram<2.26->rasa==3.5.10) (1.0.9)\n",
            "Requirement already satisfied: charset-normalizer<4.0,>=2.0 in /usr/local/lib/python3.10/dist-packages (from aiohttp!=3.7.4.post0,<3.9,>=3.6->rasa==3.5.10) (2.0.12)\n",
            "Requirement already satisfied: multidict<7.0,>=4.5 in /usr/local/lib/python3.10/dist-packages (from aiohttp!=3.7.4.post0,<3.9,>=3.6->rasa==3.5.10) (5.2.0)\n",
            "Requirement already satisfied: async-timeout<5.0,>=4.0.0a3 in /usr/local/lib/python3.10/dist-packages (from aiohttp!=3.7.4.post0,<3.9,>=3.6->rasa==3.5.10) (4.0.2)\n",
            "Requirement already satisfied: frozenlist>=1.1.1 in /usr/local/lib/python3.10/dist-packages (from aiohttp!=3.7.4.post0,<3.9,>=3.6->rasa==3.5.10) (1.3.3)\n",
            "Requirement already satisfied: aiosignal>=1.1.2 in /usr/local/lib/python3.10/dist-packages (from aiohttp!=3.7.4.post0,<3.9,>=3.6->rasa==3.5.10) (1.3.1)\n",
            "Requirement already satisfied: tzlocal!=3.*,>=2.0 in /usr/local/lib/python3.10/dist-packages (from apscheduler<3.10,>=3.6->rasa==3.5.10) (4.3)\n",
            "Requirement already satisfied: botocore<1.30.0,>=1.29.142 in /usr/local/lib/python3.10/dist-packages (from boto3<2.0,>=1.12->rasa==3.5.10) (1.29.142)\n",
            "Requirement already satisfied: jmespath<2.0.0,>=0.7.1 in /usr/local/lib/python3.10/dist-packages (from boto3<2.0,>=1.12->rasa==3.5.10) (1.0.1)\n",
            "Requirement already satisfied: s3transfer<0.7.0,>=0.6.0 in /usr/local/lib/python3.10/dist-packages (from boto3<2.0,>=1.12->rasa==3.5.10) (0.6.1)\n",
            "Requirement already satisfied: msgpack>=0.5.2 in /usr/local/lib/python3.10/dist-packages (from CacheControl<0.13.0,>=0.12.9->rasa==3.5.10) (1.0.5)\n",
            "Requirement already satisfied: humanfriendly>=9.1 in /usr/local/lib/python3.10/dist-packages (from coloredlogs<16,>=10->rasa==3.5.10) (10.0)\n",
            "Requirement already satisfied: cachetools<6.0,>=2.0.0 in /usr/local/lib/python3.10/dist-packages (from google-auth<3->rasa==3.5.10) (5.3.0)\n",
            "Requirement already satisfied: pyasn1-modules>=0.2.1 in /usr/local/lib/python3.10/dist-packages (from google-auth<3->rasa==3.5.10) (0.3.0)\n",
            "Requirement already satisfied: rsa<5,>=3.1.4 in /usr/local/lib/python3.10/dist-packages (from google-auth<3->rasa==3.5.10) (4.9)\n",
            "Requirement already satisfied: pyrsistent!=0.17.0,!=0.17.1,!=0.17.2,>=0.14.0 in /usr/local/lib/python3.10/dist-packages (from jsonschema<4.18,>=3.2->rasa==3.5.10) (0.19.3)\n",
            "Requirement already satisfied: cycler>=0.10 in /usr/local/lib/python3.10/dist-packages (from matplotlib<3.6,>=3.1->rasa==3.5.10) (0.11.0)\n",
            "Requirement already satisfied: fonttools>=4.22.0 in /usr/local/lib/python3.10/dist-packages (from matplotlib<3.6,>=3.1->rasa==3.5.10) (4.39.3)\n",
            "Requirement already satisfied: kiwisolver>=1.0.1 in /usr/local/lib/python3.10/dist-packages (from matplotlib<3.6,>=3.1->rasa==3.5.10) (1.4.4)\n",
            "Requirement already satisfied: pillow>=6.2.0 in /usr/local/lib/python3.10/dist-packages (from matplotlib<3.6,>=3.1->rasa==3.5.10) (8.4.0)\n",
            "Requirement already satisfied: pyparsing>=2.2.1 in /usr/local/lib/python3.10/dist-packages (from matplotlib<3.6,>=3.1->rasa==3.5.10) (3.0.9)\n",
            "Requirement already satisfied: wcwidth in /usr/local/lib/python3.10/dist-packages (from prompt-toolkit<3.0.29,>=3.0->rasa==3.5.10) (0.2.6)\n",
            "Requirement already satisfied: cryptography>=3.4.0 in /usr/local/lib/python3.10/dist-packages (from PyJWT[crypto]<3.0.0,>=2.0.0->rasa==3.5.10) (40.0.2)\n",
            "Requirement already satisfied: docopt>=0.6.2 in /usr/local/lib/python3.10/dist-packages (from pykwalify<1.9,>=1.7->rasa==3.5.10) (0.6.2)\n",
            "Requirement already satisfied: dnspython<2.0.0,>=1.16.0 in /usr/local/lib/python3.10/dist-packages (from pymongo[srv,tls]<3.11,>=3.8->rasa==3.5.10) (1.16.0)\n",
            "Requirement already satisfied: bidict>=0.21.0 in /usr/local/lib/python3.10/dist-packages (from python-socketio<6,>=4.4->rasa==3.5.10) (0.22.1)\n",
            "Requirement already satisfied: fire in /usr/local/lib/python3.10/dist-packages (from randomname<0.2.0,>=0.1.5->rasa==3.5.10) (0.5.0)\n",
            "Requirement already satisfied: urllib3<1.27,>=1.21.1 in /usr/local/lib/python3.10/dist-packages (from requests<3.0,>=2.23->rasa==3.5.10) (1.26.15)\n",
            "Requirement already satisfied: idna<4,>=2.5 in /usr/local/lib/python3.10/dist-packages (from requests<3.0,>=2.23->rasa==3.5.10) (3.4)\n",
            "Requirement already satisfied: ruamel.yaml.clib>=0.2.7 in /usr/local/lib/python3.10/dist-packages (from ruamel.yaml<0.18.0,>=0.16.5->rasa==3.5.10) (0.2.7)\n",
            "Requirement already satisfied: httptools>=0.0.10 in /usr/local/lib/python3.10/dist-packages (from sanic<21.13,>=21.12->rasa==3.5.10) (0.5.0)\n",
            "Requirement already satisfied: aiofiles>=0.6.0 in /usr/local/lib/python3.10/dist-packages (from sanic<21.13,>=21.12->rasa==3.5.10) (23.1.0)\n",
            "Requirement already satisfied: uvloop>=0.5.3 in /usr/local/lib/python3.10/dist-packages (from sanic<21.13,>=21.12->rasa==3.5.10) (0.17.0)\n",
            "Requirement already satisfied: threadpoolctl>=2.0.0 in /usr/local/lib/python3.10/dist-packages (from scikit-learn<1.2,>=0.22->rasa==3.5.10) (3.1.0)\n",
            "Requirement already satisfied: python-crfsuite>=0.8.3 in /usr/local/lib/python3.10/dist-packages (from sklearn-crfsuite<0.4,>=0.3->rasa==3.5.10) (0.9.9)\n",
            "Requirement already satisfied: tabulate in /usr/local/lib/python3.10/dist-packages (from sklearn-crfsuite<0.4,>=0.3->rasa==3.5.10) (0.8.10)\n",
            "Requirement already satisfied: greenlet!=0.4.17 in /usr/local/lib/python3.10/dist-packages (from SQLAlchemy<1.5.0,>=1.4.0->rasa==3.5.10) (2.0.2)\n",
            "Requirement already satisfied: typeguard>=2.7 in /usr/local/lib/python3.10/dist-packages (from tensorflow-addons<0.20,>=0.18->rasa==3.5.10) (4.0.0)\n",
            "Requirement already satisfied: future in /usr/local/lib/python3.10/dist-packages (from webexteamssdk<1.7.0,>=1.1.1->rasa==3.5.10) (0.18.3)\n",
            "Requirement already satisfied: requests-toolbelt in /usr/local/lib/python3.10/dist-packages (from webexteamssdk<1.7.0,>=1.1.1->rasa==3.5.10) (1.0.0)\n",
            "Requirement already satisfied: pamqp==3.2.1 in /usr/local/lib/python3.10/dist-packages (from aiormq~=6.4.0->aio-pika<8.2.4,>=6.7.1->rasa==3.5.10) (3.2.1)\n",
            "Requirement already satisfied: wheel<1.0,>=0.23.0 in /usr/local/lib/python3.10/dist-packages (from astunparse>=1.6.0->tensorflow==2.11.0->rasa==3.5.10) (0.40.0)\n",
            "Requirement already satisfied: cffi>=1.12 in /usr/local/lib/python3.10/dist-packages (from cryptography>=3.4.0->PyJWT[crypto]<3.0.0,>=2.0.0->rasa==3.5.10) (1.15.1)\n",
            "Requirement already satisfied: locket in /usr/local/lib/python3.10/dist-packages (from partd>=0.3.10->dask==2022.10.2->rasa==3.5.10) (1.0.0)\n",
            "Requirement already satisfied: pyasn1<0.6.0,>=0.4.6 in /usr/local/lib/python3.10/dist-packages (from pyasn1-modules>=0.2.1->google-auth<3->rasa==3.5.10) (0.5.0)\n",
            "Requirement already satisfied: google-auth-oauthlib<0.5,>=0.4.1 in /usr/local/lib/python3.10/dist-packages (from tensorboard<2.12,>=2.11->tensorflow==2.11.0->rasa==3.5.10) (0.4.6)\n",
            "Requirement already satisfied: markdown>=2.6.8 in /usr/local/lib/python3.10/dist-packages (from tensorboard<2.12,>=2.11->tensorflow==2.11.0->rasa==3.5.10) (3.4.3)\n",
            "Requirement already satisfied: tensorboard-data-server<0.7.0,>=0.6.0 in /usr/local/lib/python3.10/dist-packages (from tensorboard<2.12,>=2.11->tensorflow==2.11.0->rasa==3.5.10) (0.6.1)\n",
            "Requirement already satisfied: tensorboard-plugin-wit>=1.6.0 in /usr/local/lib/python3.10/dist-packages (from tensorboard<2.12,>=2.11->tensorflow==2.11.0->rasa==3.5.10) (1.8.1)\n",
            "Requirement already satisfied: werkzeug>=1.0.1 in /usr/local/lib/python3.10/dist-packages (from tensorboard<2.12,>=2.11->tensorflow==2.11.0->rasa==3.5.10) (2.3.0)\n",
            "Requirement already satisfied: pytz-deprecation-shim in /usr/local/lib/python3.10/dist-packages (from tzlocal!=3.*,>=2.0->apscheduler<3.10,>=3.6->rasa==3.5.10) (0.1.0.post0)\n",
            "Requirement already satisfied: pycparser in /usr/local/lib/python3.10/dist-packages (from cffi>=1.12->cryptography>=3.4.0->PyJWT[crypto]<3.0.0,>=2.0.0->rasa==3.5.10) (2.21)\n",
            "Requirement already satisfied: requests-oauthlib>=0.7.0 in /usr/local/lib/python3.10/dist-packages (from google-auth-oauthlib<0.5,>=0.4.1->tensorboard<2.12,>=2.11->tensorflow==2.11.0->rasa==3.5.10) (1.3.1)\n",
            "Requirement already satisfied: MarkupSafe>=2.1.1 in /usr/local/lib/python3.10/dist-packages (from werkzeug>=1.0.1->tensorboard<2.12,>=2.11->tensorflow==2.11.0->rasa==3.5.10) (2.1.2)\n",
            "Requirement already satisfied: tzdata in /usr/local/lib/python3.10/dist-packages (from pytz-deprecation-shim->tzlocal!=3.*,>=2.0->apscheduler<3.10,>=3.6->rasa==3.5.10) (2023.3)\n",
            "Requirement already satisfied: oauthlib>=3.0.0 in /usr/local/lib/python3.10/dist-packages (from requests-oauthlib>=0.7.0->google-auth-oauthlib<0.5,>=0.4.1->tensorboard<2.12,>=2.11->tensorflow==2.11.0->rasa==3.5.10) (3.2.2)\n",
            "Installing collected packages: websockets, tensorflow-estimator, pydantic, portalocker, keras, tensorflow-addons, aiormq, aio-pika, tensorboard, rasa-sdk, tensorflow, tensorflow-text, rasa\n",
            "  Attempting uninstall: websockets\n",
            "    Found existing installation: websockets 11.0.3\n",
            "    Uninstalling websockets-11.0.3:\n",
            "      Successfully uninstalled websockets-11.0.3\n",
            "  Attempting uninstall: tensorflow-estimator\n",
            "    Found existing installation: tensorflow-estimator 2.8.0\n",
            "    Uninstalling tensorflow-estimator-2.8.0:\n",
            "      Successfully uninstalled tensorflow-estimator-2.8.0\n",
            "  Attempting uninstall: pydantic\n",
            "    Found existing installation: pydantic 1.10.7\n",
            "    Uninstalling pydantic-1.10.7:\n",
            "      Successfully uninstalled pydantic-1.10.7\n",
            "  Attempting uninstall: keras\n",
            "    Found existing installation: keras 2.8.0\n",
            "    Uninstalling keras-2.8.0:\n",
            "      Successfully uninstalled keras-2.8.0\n",
            "  Attempting uninstall: tensorflow-addons\n",
            "    Found existing installation: tensorflow-addons 0.17.1\n",
            "    Uninstalling tensorflow-addons-0.17.1:\n",
            "      Successfully uninstalled tensorflow-addons-0.17.1\n",
            "  Attempting uninstall: aiormq\n",
            "    Found existing installation: aiormq 6.6.4\n",
            "    Uninstalling aiormq-6.6.4:\n",
            "      Successfully uninstalled aiormq-6.6.4\n",
            "  Attempting uninstall: aio-pika\n",
            "    Found existing installation: aio-pika 8.3.0\n",
            "    Uninstalling aio-pika-8.3.0:\n",
            "      Successfully uninstalled aio-pika-8.3.0\n",
            "  Attempting uninstall: tensorboard\n",
            "    Found existing installation: tensorboard 2.8.0\n",
            "    Uninstalling tensorboard-2.8.0:\n",
            "      Successfully uninstalled tensorboard-2.8.0\n",
            "  Attempting uninstall: rasa-sdk\n",
            "    Found existing installation: rasa-sdk 3.4.1\n",
            "    Uninstalling rasa-sdk-3.4.1:\n",
            "      Successfully uninstalled rasa-sdk-3.4.1\n",
            "  Attempting uninstall: tensorflow\n",
            "    Found existing installation: tensorflow 2.8.4\n",
            "    Uninstalling tensorflow-2.8.4:\n",
            "      Successfully uninstalled tensorflow-2.8.4\n",
            "  Attempting uninstall: tensorflow-text\n",
            "    Found existing installation: tensorflow-text 2.8.2\n",
            "    Uninstalling tensorflow-text-2.8.2:\n",
            "      Successfully uninstalled tensorflow-text-2.8.2\n",
            "  Attempting uninstall: rasa\n",
            "    Found existing installation: rasa 3.4.0\n",
            "    Uninstalling rasa-3.4.0:\n",
            "      Successfully uninstalled rasa-3.4.0\n",
            "Successfully installed aio-pika-8.2.3 aiormq-6.4.2 keras-2.11.0 portalocker-2.7.0 pydantic-1.10.2 rasa-3.5.10 rasa-sdk-3.5.1 tensorboard-2.11.2 tensorflow-2.11.0 tensorflow-addons-0.19.0 tensorflow-estimator-2.11.0 tensorflow-text-2.11.0 websockets-10.4\n"
          ]
        }
      ],
      "source": [
        "!pip install rasa==3.5.10"
      ]
    },
    {
      "cell_type": "code",
      "source": [
        "!python --version\n"
      ],
      "metadata": {
        "colab": {
          "base_uri": "https://localhost:8080/"
        },
        "id": "I3IxbEvwJw2l",
        "outputId": "51aa8183-4402-48ab-c701-c02726cec636"
      },
      "execution_count": null,
      "outputs": [
        {
          "output_type": "stream",
          "name": "stdout",
          "text": [
            "Python 3.10.11\n"
          ]
        }
      ]
    },
    {
      "cell_type": "code",
      "execution_count": null,
      "metadata": {
        "colab": {
          "base_uri": "https://localhost:8080/"
        },
        "id": "h5IsX-nL3fKj",
        "outputId": "b9900d21-34a5-499a-8f74-47309617b718"
      },
      "outputs": [
        {
          "output_type": "stream",
          "name": "stdout",
          "text": [
            "Looking in indexes: https://pypi.org/simple, https://us-python.pkg.dev/colab-wheels/public/simple/\n",
            "Collecting tzlocal==2.1\n",
            "  Downloading tzlocal-2.1-py2.py3-none-any.whl (16 kB)\n",
            "Requirement already satisfied: pytz in /usr/local/lib/python3.10/dist-packages (from tzlocal==2.1) (2022.7.1)\n",
            "Installing collected packages: tzlocal\n",
            "  Attempting uninstall: tzlocal\n",
            "    Found existing installation: tzlocal 4.3\n",
            "    Uninstalling tzlocal-4.3:\n",
            "      Successfully uninstalled tzlocal-4.3\n",
            "Successfully installed tzlocal-2.1\n"
          ]
        }
      ],
      "source": [
        "!pip install tzlocal==2.1"
      ]
    },
    {
      "cell_type": "code",
      "execution_count": null,
      "metadata": {
        "colab": {
          "base_uri": "https://localhost:8080/",
          "height": 991
        },
        "id": "NxeHNN1D33zv",
        "outputId": "e7df867a-a674-4157-ce46-9a32779cb5ea"
      },
      "outputs": [
        {
          "output_type": "stream",
          "name": "stdout",
          "text": [
            "Looking in indexes: https://pypi.org/simple, https://us-python.pkg.dev/colab-wheels/public/simple/\n",
            "Collecting jedi==0.16\n",
            "  Downloading jedi-0.16.0-py2.py3-none-any.whl (1.1 MB)\n",
            "\u001b[2K     \u001b[90m━━━━━━━━━━━━━━━━━━━━━━━━━━━━━━━━━━━━━━━━\u001b[0m \u001b[32m1.1/1.1 MB\u001b[0m \u001b[31m17.3 MB/s\u001b[0m eta \u001b[36m0:00:00\u001b[0m\n",
            "\u001b[?25hCollecting parso>=0.5.2 (from jedi==0.16)\n",
            "  Downloading parso-0.8.3-py2.py3-none-any.whl (100 kB)\n",
            "\u001b[2K     \u001b[90m━━━━━━━━━━━━━━━━━━━━━━━━━━━━━━━━━━━━━━━\u001b[0m \u001b[32m100.8/100.8 kB\u001b[0m \u001b[31m7.5 MB/s\u001b[0m eta \u001b[36m0:00:00\u001b[0m\n",
            "\u001b[?25hInstalling collected packages: parso, jedi\n",
            "  Attempting uninstall: parso\n",
            "    Found existing installation: parso 0.1.0\n",
            "    Uninstalling parso-0.1.0:\n",
            "      Successfully uninstalled parso-0.1.0\n",
            "  Attempting uninstall: jedi\n",
            "    Found existing installation: jedi 0.11.0\n",
            "    Uninstalling jedi-0.11.0:\n",
            "      Successfully uninstalled jedi-0.11.0\n",
            "Successfully installed jedi-0.16.0 parso-0.8.3\n"
          ]
        },
        {
          "output_type": "display_data",
          "data": {
            "application/vnd.colab-display-data+json": {
              "pip_warning": {
                "packages": [
                  "jedi",
                  "parso"
                ]
              }
            }
          },
          "metadata": {}
        },
        {
          "output_type": "stream",
          "name": "stdout",
          "text": [
            "Looking in indexes: https://pypi.org/simple, https://us-python.pkg.dev/colab-wheels/public/simple/\n",
            "Collecting pluggy==1.0.0\n",
            "  Downloading pluggy-1.0.0-py2.py3-none-any.whl (13 kB)\n",
            "Installing collected packages: pluggy\n",
            "  Attempting uninstall: pluggy\n",
            "    Found existing installation: pluggy 0.6.0\n",
            "    Uninstalling pluggy-0.6.0:\n",
            "      Successfully uninstalled pluggy-0.6.0\n",
            "\u001b[31mERROR: pip's dependency resolver does not currently take into account all the packages that are installed. This behaviour is the source of the following dependency conflicts.\n",
            "rasa 3.5.10 requires prompt-toolkit<3.0.29,>=3.0, but you have prompt-toolkit 2.0.10 which is incompatible.\u001b[0m\u001b[31m\n",
            "\u001b[0mSuccessfully installed pluggy-1.0.0\n",
            "Looking in indexes: https://pypi.org/simple, https://us-python.pkg.dev/colab-wheels/public/simple/\n",
            "Collecting prompt-toolkit==3.0\n",
            "  Downloading prompt_toolkit-3.0.0-py3-none-any.whl (342 kB)\n",
            "\u001b[2K     \u001b[90m━━━━━━━━━━━━━━━━━━━━━━━━━━━━━━━━━━━━━━\u001b[0m \u001b[32m342.5/342.5 kB\u001b[0m \u001b[31m22.8 MB/s\u001b[0m eta \u001b[36m0:00:00\u001b[0m\n",
            "\u001b[?25hRequirement already satisfied: wcwidth in /usr/local/lib/python3.10/dist-packages (from prompt-toolkit==3.0) (0.2.6)\n",
            "Installing collected packages: prompt-toolkit\n",
            "  Attempting uninstall: prompt-toolkit\n",
            "    Found existing installation: prompt-toolkit 2.0.10\n",
            "    Uninstalling prompt-toolkit-2.0.10:\n",
            "      Successfully uninstalled prompt-toolkit-2.0.10\n",
            "\u001b[31mERROR: pip's dependency resolver does not currently take into account all the packages that are installed. This behaviour is the source of the following dependency conflicts.\n",
            "ipython 7.34.0 requires prompt-toolkit!=3.0.0,!=3.0.1,<3.1.0,>=2.0.0, but you have prompt-toolkit 3.0.0 which is incompatible.\n",
            "jupyter-console 6.1.0 requires prompt-toolkit!=3.0.0,!=3.0.1,<3.1.0,>=2.0.0, but you have prompt-toolkit 3.0.0 which is incompatible.\u001b[0m\u001b[31m\n",
            "\u001b[0mSuccessfully installed prompt-toolkit-3.0.0\n"
          ]
        },
        {
          "output_type": "display_data",
          "data": {
            "application/vnd.colab-display-data+json": {
              "pip_warning": {
                "packages": [
                  "prompt_toolkit"
                ]
              }
            }
          },
          "metadata": {}
        }
      ],
      "source": [
        "!pip install jedi==0.16\n",
        "!pip install pluggy==1.0.0\n",
        "!pip install prompt-toolkit==3.0"
      ]
    },
    {
      "cell_type": "code",
      "execution_count": null,
      "metadata": {
        "colab": {
          "base_uri": "https://localhost:8080/",
          "height": 921
        },
        "id": "YYirFd7_4YnJ",
        "outputId": "554bdd9a-7600-4336-a54d-1f6ebe6a2bb6"
      },
      "outputs": [
        {
          "output_type": "stream",
          "name": "stdout",
          "text": [
            "Looking in indexes: https://pypi.org/simple, https://us-python.pkg.dev/colab-wheels/public/simple/\n",
            "Requirement already satisfied: ipython in /usr/local/lib/python3.10/dist-packages (7.34.0)\n",
            "Collecting ipython\n",
            "  Downloading ipython-8.13.2-py3-none-any.whl (797 kB)\n",
            "\u001b[2K     \u001b[90m━━━━━━━━━━━━━━━━━━━━━━━━━━━━━━━━━━━━━━\u001b[0m \u001b[32m797.7/797.7 kB\u001b[0m \u001b[31m27.4 MB/s\u001b[0m eta \u001b[36m0:00:00\u001b[0m\n",
            "\u001b[?25hRequirement already satisfied: backcall in /usr/local/lib/python3.10/dist-packages (from ipython) (0.2.0)\n",
            "Requirement already satisfied: decorator in /usr/local/lib/python3.10/dist-packages (from ipython) (4.4.2)\n",
            "Requirement already satisfied: jedi>=0.16 in /usr/local/lib/python3.10/dist-packages (from ipython) (0.16.0)\n",
            "Requirement already satisfied: matplotlib-inline in /usr/local/lib/python3.10/dist-packages (from ipython) (0.1.6)\n",
            "Requirement already satisfied: pickleshare in /usr/local/lib/python3.10/dist-packages (from ipython) (0.7.5)\n",
            "Collecting prompt-toolkit!=3.0.37,<3.1.0,>=3.0.30 (from ipython)\n",
            "  Downloading prompt_toolkit-3.0.38-py3-none-any.whl (385 kB)\n",
            "\u001b[2K     \u001b[90m━━━━━━━━━━━━━━━━━━━━━━━━━━━━━━━━━━━━━━\u001b[0m \u001b[32m385.8/385.8 kB\u001b[0m \u001b[31m29.0 MB/s\u001b[0m eta \u001b[36m0:00:00\u001b[0m\n",
            "\u001b[?25hRequirement already satisfied: pygments>=2.4.0 in /usr/local/lib/python3.10/dist-packages (from ipython) (2.14.0)\n",
            "Collecting stack-data (from ipython)\n",
            "  Downloading stack_data-0.6.2-py3-none-any.whl (24 kB)\n",
            "Requirement already satisfied: traitlets>=5 in /usr/local/lib/python3.10/dist-packages (from ipython) (5.7.1)\n",
            "Requirement already satisfied: pexpect>4.3 in /usr/local/lib/python3.10/dist-packages (from ipython) (4.8.0)\n",
            "Requirement already satisfied: parso>=0.5.2 in /usr/local/lib/python3.10/dist-packages (from jedi>=0.16->ipython) (0.8.3)\n",
            "Requirement already satisfied: ptyprocess>=0.5 in /usr/local/lib/python3.10/dist-packages (from pexpect>4.3->ipython) (0.7.0)\n",
            "Requirement already satisfied: wcwidth in /usr/local/lib/python3.10/dist-packages (from prompt-toolkit!=3.0.37,<3.1.0,>=3.0.30->ipython) (0.2.6)\n",
            "Collecting executing>=1.2.0 (from stack-data->ipython)\n",
            "  Downloading executing-1.2.0-py2.py3-none-any.whl (24 kB)\n",
            "Collecting asttokens>=2.1.0 (from stack-data->ipython)\n",
            "  Downloading asttokens-2.2.1-py2.py3-none-any.whl (26 kB)\n",
            "Collecting pure-eval (from stack-data->ipython)\n",
            "  Downloading pure_eval-0.2.2-py3-none-any.whl (11 kB)\n",
            "Requirement already satisfied: six in /usr/local/lib/python3.10/dist-packages (from asttokens>=2.1.0->stack-data->ipython) (1.16.0)\n",
            "Installing collected packages: pure-eval, executing, prompt-toolkit, asttokens, stack-data, ipython\n",
            "  Attempting uninstall: prompt-toolkit\n",
            "    Found existing installation: prompt-toolkit 3.0.0\n",
            "    Uninstalling prompt-toolkit-3.0.0:\n",
            "      Successfully uninstalled prompt-toolkit-3.0.0\n",
            "  Attempting uninstall: ipython\n",
            "    Found existing installation: ipython 7.34.0\n",
            "    Uninstalling ipython-7.34.0:\n",
            "      Successfully uninstalled ipython-7.34.0\n",
            "\u001b[31mERROR: pip's dependency resolver does not currently take into account all the packages that are installed. This behaviour is the source of the following dependency conflicts.\n",
            "google-colab 1.0.0 requires ipython==7.34.0, but you have ipython 8.13.2 which is incompatible.\n",
            "rasa 3.5.10 requires prompt-toolkit<3.0.29,>=3.0, but you have prompt-toolkit 3.0.38 which is incompatible.\n",
            "rasa-sdk 3.5.1 requires prompt-toolkit<3.0.29,>=3.0, but you have prompt-toolkit 3.0.38 which is incompatible.\u001b[0m\u001b[31m\n",
            "\u001b[0mSuccessfully installed asttokens-2.2.1 executing-1.2.0 ipython-8.13.2 prompt-toolkit-3.0.38 pure-eval-0.2.2 stack-data-0.6.2\n"
          ]
        },
        {
          "output_type": "display_data",
          "data": {
            "application/vnd.colab-display-data+json": {
              "pip_warning": {
                "packages": [
                  "IPython",
                  "prompt_toolkit"
                ]
              }
            }
          },
          "metadata": {}
        }
      ],
      "source": [
        "!pip install -U ipython"
      ]
    },
    {
      "cell_type": "markdown",
      "metadata": {
        "id": "AEn5_nlKKGfN"
      },
      "source": [
        "**If you didn't get an option to \"restart runtime\" on above cell. then just click on run time.**\n",
        "![image.png](data:image/png;base64,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)\n",
        "\n",
        "**click on restart runtime.**\n",
        "\n",
        "![image.png](data:image/png;base64,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)"
      ]
    },
    {
      "cell_type": "code",
      "execution_count": null,
      "metadata": {
        "colab": {
          "base_uri": "https://localhost:8080/"
        },
        "id": "-l-wsoY24wu2",
        "outputId": "c58605d5-31e0-411e-9002-ec0d6d8d160f"
      },
      "outputs": [
        {
          "output_type": "stream",
          "name": "stdout",
          "text": [
            "2023-05-29 11:08:36.609592: I tensorflow/core/platform/cpu_feature_guard.cc:193] This TensorFlow binary is optimized with oneAPI Deep Neural Network Library (oneDNN) to use the following CPU instructions in performance-critical operations:  AVX2 FMA\n",
            "To enable them in other operations, rebuild TensorFlow with the appropriate compiler flags.\n",
            "2023-05-29 11:08:38.169632: W tensorflow/compiler/xla/stream_executor/platform/default/dso_loader.cc:64] Could not load dynamic library 'libnvinfer.so.7'; dlerror: libnvinfer.so.7: cannot open shared object file: No such file or directory; LD_LIBRARY_PATH: /usr/local/nvidia/lib:/usr/local/nvidia/lib64\n",
            "2023-05-29 11:08:38.169808: W tensorflow/compiler/xla/stream_executor/platform/default/dso_loader.cc:64] Could not load dynamic library 'libnvinfer_plugin.so.7'; dlerror: libnvinfer_plugin.so.7: cannot open shared object file: No such file or directory; LD_LIBRARY_PATH: /usr/local/nvidia/lib:/usr/local/nvidia/lib64\n",
            "2023-05-29 11:08:38.169833: W tensorflow/compiler/tf2tensorrt/utils/py_utils.cc:38] TF-TRT Warning: Cannot dlopen some TensorRT libraries. If you would like to use Nvidia GPU with TensorRT, please make sure the missing libraries mentioned above are installed properly.\n",
            "2023-05-29 11:08:41.054594: W tensorflow/compiler/xla/stream_executor/platform/default/dso_loader.cc:64] Could not load dynamic library 'libcuda.so.1'; dlerror: libcuda.so.1: cannot open shared object file: No such file or directory; LD_LIBRARY_PATH: /usr/local/nvidia/lib:/usr/local/nvidia/lib64\n",
            "2023-05-29 11:08:41.054661: W tensorflow/compiler/xla/stream_executor/cuda/cuda_driver.cc:265] failed call to cuInit: UNKNOWN ERROR (303)\n",
            "Looking in indexes: https://pypi.org/simple, https://us-python.pkg.dev/colab-wheels/public/simple/\n",
            "Collecting en-core-web-sm==3.5.0\n",
            "  Downloading https://github.com/explosion/spacy-models/releases/download/en_core_web_sm-3.5.0/en_core_web_sm-3.5.0-py3-none-any.whl (12.8 MB)\n",
            "\u001b[2K     \u001b[90m━━━━━━━━━━━━━━━━━━━━━━━━━━━━━━━━━━━━━━━━\u001b[0m \u001b[32m12.8/12.8 MB\u001b[0m \u001b[31m29.4 MB/s\u001b[0m eta \u001b[36m0:00:00\u001b[0m\n",
            "\u001b[?25hRequirement already satisfied: spacy<3.6.0,>=3.5.0 in /usr/local/lib/python3.10/dist-packages (from en-core-web-sm==3.5.0) (3.5.2)\n",
            "Requirement already satisfied: spacy-legacy<3.1.0,>=3.0.11 in /usr/local/lib/python3.10/dist-packages (from spacy<3.6.0,>=3.5.0->en-core-web-sm==3.5.0) (3.0.12)\n",
            "Requirement already satisfied: spacy-loggers<2.0.0,>=1.0.0 in /usr/local/lib/python3.10/dist-packages (from spacy<3.6.0,>=3.5.0->en-core-web-sm==3.5.0) (1.0.4)\n",
            "Requirement already satisfied: murmurhash<1.1.0,>=0.28.0 in /usr/local/lib/python3.10/dist-packages (from spacy<3.6.0,>=3.5.0->en-core-web-sm==3.5.0) (1.0.9)\n",
            "Requirement already satisfied: cymem<2.1.0,>=2.0.2 in /usr/local/lib/python3.10/dist-packages (from spacy<3.6.0,>=3.5.0->en-core-web-sm==3.5.0) (2.0.7)\n",
            "Requirement already satisfied: preshed<3.1.0,>=3.0.2 in /usr/local/lib/python3.10/dist-packages (from spacy<3.6.0,>=3.5.0->en-core-web-sm==3.5.0) (3.0.8)\n",
            "Requirement already satisfied: thinc<8.2.0,>=8.1.8 in /usr/local/lib/python3.10/dist-packages (from spacy<3.6.0,>=3.5.0->en-core-web-sm==3.5.0) (8.1.9)\n",
            "Requirement already satisfied: wasabi<1.2.0,>=0.9.1 in /usr/local/lib/python3.10/dist-packages (from spacy<3.6.0,>=3.5.0->en-core-web-sm==3.5.0) (1.1.1)\n",
            "Requirement already satisfied: srsly<3.0.0,>=2.4.3 in /usr/local/lib/python3.10/dist-packages (from spacy<3.6.0,>=3.5.0->en-core-web-sm==3.5.0) (2.4.6)\n",
            "Requirement already satisfied: catalogue<2.1.0,>=2.0.6 in /usr/local/lib/python3.10/dist-packages (from spacy<3.6.0,>=3.5.0->en-core-web-sm==3.5.0) (2.0.8)\n",
            "Requirement already satisfied: typer<0.8.0,>=0.3.0 in /usr/local/lib/python3.10/dist-packages (from spacy<3.6.0,>=3.5.0->en-core-web-sm==3.5.0) (0.7.0)\n",
            "Requirement already satisfied: pathy>=0.10.0 in /usr/local/lib/python3.10/dist-packages (from spacy<3.6.0,>=3.5.0->en-core-web-sm==3.5.0) (0.10.1)\n",
            "Requirement already satisfied: smart-open<7.0.0,>=5.2.1 in /usr/local/lib/python3.10/dist-packages (from spacy<3.6.0,>=3.5.0->en-core-web-sm==3.5.0) (6.3.0)\n",
            "Requirement already satisfied: tqdm<5.0.0,>=4.38.0 in /usr/local/lib/python3.10/dist-packages (from spacy<3.6.0,>=3.5.0->en-core-web-sm==3.5.0) (4.65.0)\n",
            "Requirement already satisfied: numpy>=1.15.0 in /usr/local/lib/python3.10/dist-packages (from spacy<3.6.0,>=3.5.0->en-core-web-sm==3.5.0) (1.22.4)\n",
            "Requirement already satisfied: requests<3.0.0,>=2.13.0 in /usr/local/lib/python3.10/dist-packages (from spacy<3.6.0,>=3.5.0->en-core-web-sm==3.5.0) (2.27.1)\n",
            "Requirement already satisfied: pydantic!=1.8,!=1.8.1,<1.11.0,>=1.7.4 in /usr/local/lib/python3.10/dist-packages (from spacy<3.6.0,>=3.5.0->en-core-web-sm==3.5.0) (1.10.2)\n",
            "Requirement already satisfied: jinja2 in /usr/local/lib/python3.10/dist-packages (from spacy<3.6.0,>=3.5.0->en-core-web-sm==3.5.0) (3.1.2)\n",
            "Requirement already satisfied: setuptools in /usr/local/lib/python3.10/dist-packages (from spacy<3.6.0,>=3.5.0->en-core-web-sm==3.5.0) (67.7.2)\n",
            "Requirement already satisfied: packaging>=20.0 in /usr/local/lib/python3.10/dist-packages (from spacy<3.6.0,>=3.5.0->en-core-web-sm==3.5.0) (20.9)\n",
            "Requirement already satisfied: langcodes<4.0.0,>=3.2.0 in /usr/local/lib/python3.10/dist-packages (from spacy<3.6.0,>=3.5.0->en-core-web-sm==3.5.0) (3.3.0)\n",
            "Requirement already satisfied: pyparsing>=2.0.2 in /usr/local/lib/python3.10/dist-packages (from packaging>=20.0->spacy<3.6.0,>=3.5.0->en-core-web-sm==3.5.0) (3.0.9)\n",
            "Requirement already satisfied: typing-extensions>=4.1.0 in /usr/local/lib/python3.10/dist-packages (from pydantic!=1.8,!=1.8.1,<1.11.0,>=1.7.4->spacy<3.6.0,>=3.5.0->en-core-web-sm==3.5.0) (4.5.0)\n",
            "Requirement already satisfied: urllib3<1.27,>=1.21.1 in /usr/local/lib/python3.10/dist-packages (from requests<3.0.0,>=2.13.0->spacy<3.6.0,>=3.5.0->en-core-web-sm==3.5.0) (1.26.15)\n",
            "Requirement already satisfied: certifi>=2017.4.17 in /usr/local/lib/python3.10/dist-packages (from requests<3.0.0,>=2.13.0->spacy<3.6.0,>=3.5.0->en-core-web-sm==3.5.0) (2022.12.7)\n",
            "Requirement already satisfied: charset-normalizer~=2.0.0 in /usr/local/lib/python3.10/dist-packages (from requests<3.0.0,>=2.13.0->spacy<3.6.0,>=3.5.0->en-core-web-sm==3.5.0) (2.0.12)\n",
            "Requirement already satisfied: idna<4,>=2.5 in /usr/local/lib/python3.10/dist-packages (from requests<3.0.0,>=2.13.0->spacy<3.6.0,>=3.5.0->en-core-web-sm==3.5.0) (3.4)\n",
            "Requirement already satisfied: blis<0.8.0,>=0.7.8 in /usr/local/lib/python3.10/dist-packages (from thinc<8.2.0,>=8.1.8->spacy<3.6.0,>=3.5.0->en-core-web-sm==3.5.0) (0.7.9)\n",
            "Requirement already satisfied: confection<1.0.0,>=0.0.1 in /usr/local/lib/python3.10/dist-packages (from thinc<8.2.0,>=8.1.8->spacy<3.6.0,>=3.5.0->en-core-web-sm==3.5.0) (0.0.4)\n",
            "Requirement already satisfied: click<9.0.0,>=7.1.1 in /usr/local/lib/python3.10/dist-packages (from typer<0.8.0,>=0.3.0->spacy<3.6.0,>=3.5.0->en-core-web-sm==3.5.0) (8.1.3)\n",
            "Requirement already satisfied: MarkupSafe>=2.0 in /usr/local/lib/python3.10/dist-packages (from jinja2->spacy<3.6.0,>=3.5.0->en-core-web-sm==3.5.0) (2.1.2)\n",
            "\u001b[38;5;2m✔ Download and installation successful\u001b[0m\n",
            "You can now load the package via spacy.load('en_core_web_sm')\n"
          ]
        }
      ],
      "source": [
        "!python -m spacy download en_core_web_sm"
      ]
    },
    {
      "cell_type": "code",
      "execution_count": null,
      "metadata": {
        "colab": {
          "base_uri": "https://localhost:8080/"
        },
        "id": "IGwqW2fK4wnC",
        "outputId": "9ad4cda0-721a-437b-9738-75d23d3eff0f"
      },
      "outputs": [
        {
          "output_type": "stream",
          "name": "stdout",
          "text": [
            "Looking in indexes: https://pypi.org/simple, https://us-python.pkg.dev/colab-wheels/public/simple/\n",
            "Requirement already satisfied: nest_asyncio in /usr/local/lib/python3.10/dist-packages (1.5.6)\n"
          ]
        }
      ],
      "source": [
        "!pip install nest_asyncio"
      ]
    },
    {
      "cell_type": "code",
      "execution_count": null,
      "metadata": {
        "colab": {
          "base_uri": "https://localhost:8080/"
        },
        "id": "ogTPZQI95rve",
        "outputId": "f8f224c3-81c1-41df-de3c-42c268bcb97e"
      },
      "outputs": [
        {
          "output_type": "stream",
          "name": "stdout",
          "text": [
            "event loop is ready\n"
          ]
        }
      ],
      "source": [
        "import os\n",
        "import rasa\n",
        "import nest_asyncio\n",
        "\n",
        "nest_asyncio.apply()\n",
        "\n",
        "print(\"event loop is ready\")"
      ]
    },
    {
      "cell_type": "code",
      "execution_count": null,
      "metadata": {
        "id": "FIbAuFH_6ELN"
      },
      "outputs": [],
      "source": [
        "from rasa.cli.scaffold import create_initial_project\n",
        "\n",
        "project = 'chatbot_v1.0'\n",
        "create_initial_project(project)"
      ]
    },
    {
      "cell_type": "code",
      "source": [
        "%%writefile data/nlu.yml\n",
        "\n",
        "version: \"3.1\"\n",
        "\n",
        "nlu:\n",
        "- intent: greet\n",
        "  examples: |\n",
        "    - Hi\n",
        "    - Hello\n",
        "    - Hey there\n",
        "    - Good morning\n",
        "\n",
        "- intent: goodbye\n",
        "  examples: |\n",
        "    - Goodbye\n",
        "    - Bye\n",
        "    - See you later\n",
        "    - Take care\n",
        "\n",
        "- intent: ask_diabetes_info\n",
        "  examples: |\n",
        "    - What is diabetes?\n",
        "    - Can you tell me about diabetes?\n",
        "    - Explain diabetes to me\n",
        "\n",
        "- intent: ask_diabetes_types\n",
        "  examples: |\n",
        "    - What are the types of diabetes?\n",
        "    - Tell me about different types of diabetes\n",
        "    - What is type 1 diabetes?\n",
        "    - What is type 2 diabetes?\n",
        "\n",
        "- intent: ask_management_tips\n",
        "  examples: |\n",
        "    - How can I manage diabetes?\n",
        "    - Give me some tips for managing diabetes\n",
        "    - What are the best practices for diabetes management?\n",
        "    - How to control blood sugar levels?\n",
        "\n",
        "- intent: ask_insulin\n",
        "  examples: |\n",
        "    - How does insulin work?\n",
        "    - Tell me about insulin\n",
        "    - What are the different types of insulin?\n",
        "    - How do I take insulin injections?\n",
        "\n",
        "- intent: ask_diet_recommendation\n",
        "  examples: |\n",
        "    - What should I eat if I have diabetes?\n",
        "    - Can you suggest a diabetic-friendly diet?\n",
        "    - Give me some dietary recommendations for diabetes\n",
        "\n",
        "- intent: ask_exercise_benefits\n",
        "  examples: |\n",
        "    - What are the benefits of exercise for diabetes?\n",
        "    - How does exercise help in managing diabetes?\n",
        "    - What types of exercises are recommended for diabetics?\n",
        "\n",
        "- intent: ask_glucose_monitoring\n",
        "  examples: |\n",
        "    - How do I monitor my blood glucose levels?\n",
        "    - What are the different glucose monitoring devices available?\n",
        "    - Tell me about continuous glucose monitoring (CGM)\n",
        "\n",
        "- intent: thank\n",
        "  examples: |\n",
        "    - Thank you\n",
        "    - Thanks a lot\n",
        "    - I appreciate your help\n",
        "    - Thanks for the information\n",
        "\n",
        "- intent: deny\n",
        "  examples: |\n",
        "    - No\n",
        "    - I don't think so\n",
        "    - Not really\n",
        "    - I'm not interested\n"
      ],
      "metadata": {
        "colab": {
          "base_uri": "https://localhost:8080/"
        },
        "id": "a7_RpV34UYKm",
        "outputId": "9f9fa4a8-a96c-4700-f239-6d333c6b12bb"
      },
      "execution_count": null,
      "outputs": [
        {
          "output_type": "stream",
          "name": "stdout",
          "text": [
            "Overwriting data/nlu.yml\n"
          ]
        }
      ]
    },
    {
      "cell_type": "code",
      "source": [
        "%%writefile domain.yml\n",
        "\n",
        "version: \"3.1\"\n",
        "\n",
        "intents:\n",
        "  - greet\n",
        "  - goodbye\n",
        "  - ask_diabetes_info\n",
        "  - ask_diabetes_types\n",
        "  - ask_management_tips\n",
        "  - ask_insulin\n",
        "  - ask_diet_recommendation\n",
        "  - ask_exercise_benefits\n",
        "  - ask_glucose_monitoring\n",
        "  - thank\n",
        "  - deny\n",
        "\n",
        "responses:\n",
        "  utter_greet:\n",
        "    - text: \"Hello! How can I assist you with your diabetes-related questions?\"\n",
        "\n",
        "  utter_goodbye:\n",
        "    - text: \"Goodbye! Take care and stay healthy.\"\n",
        "\n",
        "  utter_ask_diabetes_info:\n",
        "    - text: \"Diabetes is a chronic condition that affects how your body regulates blood sugar levels. It occurs when your body either doesn't produce enough insulin or can't effectively use the insulin it produces.\"\n",
        "\n",
        "  utter_ask_diabetes_types:\n",
        "    - text: \"There are several types of diabetes. The most common types are Type 1 diabetes and Type 2 diabetes. Type 1 diabetes is an autoimmune disease where the immune system mistakenly attacks and destroys the insulin-producing cells in the pancreas. Type 2 diabetes is a metabolic disorder characterized by insulin resistance or insufficient insulin production.\"\n",
        "\n",
        "  utter_ask_management_tips:\n",
        "    - text: \"To manage diabetes, it's important to maintain a healthy lifestyle. Some tips include monitoring your blood sugar levels regularly, following a balanced diet, engaging in regular physical activity, taking prescribed medications or insulin as directed, and staying consistent with medical check-ups.\"\n",
        "\n",
        "  utter_ask_insulin:\n",
        "    - text: \"Insulin is a hormone that helps regulate blood sugar levels in your body. It allows your cells to take in glucose from the bloodstream and use it for energy. There are different types of insulin, including rapid-acting, short-acting, intermediate-acting, and long-acting insulin. The type and dosage of insulin prescribed may vary depending on individual needs.\"\n",
        "\n",
        "  utter_ask_diet_recommendation:\n",
        "    - text: \"A healthy diet plays a crucial role in managing diabetes. It's recommended to focus on consuming whole foods, including fruits, vegetables, lean proteins, whole grains, and healthy fats. Limiting the intake of sugary and processed foods is also important. It's best to work with a registered dietitian or healthcare professional to create a personalized meal plan based on your specific needs.\"\n",
        "\n",
        "  utter_ask_exercise_benefits:\n",
        "    - text: \"Exercise offers numerous benefits for individuals with diabetes. It can help improve insulin sensitivity, manage weight, lower blood sugar levels, reduce the risk of heart disease, and enhance overall well-being. It's recommended to engage in a combination of aerobic exercises (such as brisk walking or cycling) and strength training exercises for optimal results.\"\n",
        "\n",
        "  utter_ask_glucose_monitoring:\n",
        "    - text: \"Monitoring your blood glucose levels is essential for managing diabetes. There are various methods available, including self-monitoring using a glucometer, continuous glucose monitoring (CGM) systems, and flash glucose monitoring. Regular monitoring helps you understand how your body responds to different factors and allows you to make necessary adjustments to your diabetes management plan.\"\n",
        "\n",
        "  utter_thank:\n",
        "    - text: \"You're welcome! If you have any more questions, feel free to ask.\"\n",
        "\n",
        "  utter_deny:\n",
        "    - text: \"No problem. If you have any other inquiries in the future, feel free to reach out.\"\n",
        "  \n",
        "session_config:\n",
        "  session_expiration_time: 60\n",
        "  carry_over_slots_to_new_session: true\n",
        "\n",
        "\n"
      ],
      "metadata": {
        "colab": {
          "base_uri": "https://localhost:8080/"
        },
        "id": "sSjUXX--UqgD",
        "outputId": "3d5900f3-b84f-408e-b787-c270e54d49b7"
      },
      "execution_count": null,
      "outputs": [
        {
          "output_type": "stream",
          "name": "stdout",
          "text": [
            "Overwriting domain.yml\n"
          ]
        }
      ]
    },
    {
      "cell_type": "code",
      "source": [
        "\n",
        "%%writefile data/stories.yml\n",
        "\n",
        "version: \"3.1\"\n",
        "\n",
        "stories:\n",
        "  - story: User greets the chatbot\n",
        "    steps:\n",
        "      - intent: greet\n",
        "      - action: utter_greet\n",
        "\n",
        "  - story: User says goodbye\n",
        "    steps:\n",
        "      - intent: goodbye\n",
        "      - action: utter_goodbye\n",
        "\n",
        "  - story: User asks for information about diabetes\n",
        "    steps:\n",
        "      - intent: ask_diabetes_info\n",
        "      - action: utter_ask_diabetes_info\n",
        "\n",
        "  - story: User asks about different types of diabetes\n",
        "    steps:\n",
        "      - intent: ask_diabetes_types\n",
        "      - action: utter_ask_diabetes_types\n",
        "\n",
        "  - story: User asks for management tips\n",
        "    steps:\n",
        "      - intent: ask_management_tips\n",
        "      - action: utter_ask_management_tips\n",
        "\n",
        "  - story: User asks about insulin\n",
        "    steps:\n",
        "      - intent: ask_insulin\n",
        "      - action: utter_ask_insulin\n",
        "\n",
        "  - story: User asks for diet recommendations\n",
        "    steps:\n",
        "      - intent: ask_diet_recommendation\n",
        "      - action: utter_ask_diet_recommendation\n",
        "\n",
        "  - story: User asks about exercise benefits\n",
        "    steps:\n",
        "      - intent: ask_exercise_benefits\n",
        "      - action: utter_ask_exercise_benefits\n",
        "\n",
        "  - story: User asks about glucose monitoring\n",
        "    steps:\n",
        "      - intent: ask_glucose_monitoring\n",
        "      - action: utter_ask_glucose_monitoring\n",
        "\n",
        "  - story: User expresses gratitude\n",
        "    steps:\n",
        "      - intent: thank\n",
        "      - action: utter_thank\n",
        "\n",
        "  - story: User denies a suggestion or option\n",
        "    steps:\n",
        "      - intent: deny\n",
        "      - action: utter_deny\n",
        "\n",
        "  - story: User asks for both diet recommendations and exercise benefits\n",
        "    steps:\n",
        "      - intent: ask_diet_recommendation\n",
        "      - action: utter_ask_diet_recommendation\n",
        "      - intent: ask_exercise_benefits\n",
        "      - action: utter_ask_exercise_benefits\n",
        "\n",
        "  - story: User asks for diabetes information and then expresses gratitude\n",
        "    steps:\n",
        "      - intent: ask_diabetes_info\n",
        "      - action: utter_ask_diabetes_info\n",
        "      - intent: thank\n",
        "      - action: utter_thank\n",
        "\n",
        "  - story: User greets the chatbot, asks about diabetes types, and says goodbye\n",
        "    steps:\n",
        "      - intent: greet\n",
        "      - action: utter_greet\n",
        "      - intent: ask_diabetes_types\n",
        "      - action: utter_ask_diabetes_types\n",
        "      - intent: goodbye\n",
        "      - action: utter_goodbye\n"
      ],
      "metadata": {
        "colab": {
          "base_uri": "https://localhost:8080/"
        },
        "id": "JUytiXKAX4m5",
        "outputId": "180cb316-e534-441d-ec7e-aaa7b42ea1ab"
      },
      "execution_count": null,
      "outputs": [
        {
          "output_type": "stream",
          "name": "stdout",
          "text": [
            "Overwriting data/stories.yml\n"
          ]
        }
      ]
    },
    {
      "cell_type": "code",
      "source": [
        "\n",
        "%%writefile data/rules.yml\n",
        "\n",
        "- rule: Greet User\n",
        "  steps:\n",
        "    - intent: greet\n",
        "    - action: utter_greet\n",
        "\n",
        "- rule: Goodbye User\n",
        "  steps:\n",
        "    - intent: goodbye\n",
        "    - action: utter_goodbye\n",
        "\n",
        "- rule: Provide Diabetes Information\n",
        "  steps:\n",
        "    - intent: ask_diabetes_info\n",
        "    - action: utter_ask_diabetes_info\n",
        "\n",
        "- rule: Provide Diabetes Types\n",
        "  steps:\n",
        "    - intent: ask_diabetes_types\n",
        "    - action: utter_ask_diabetes_types\n",
        "\n",
        "- rule: Provide Management Tips\n",
        "  steps:\n",
        "    - intent: ask_management_tips\n",
        "    - action: utter_ask_management_tips\n",
        "\n",
        "- rule: Provide Insulin Information\n",
        "  steps:\n",
        "    - intent: ask_insulin\n",
        "    - action: utter_ask_insulin\n",
        "\n",
        "- rule: Provide Diet Recommendation\n",
        "  steps:\n",
        "    - intent: ask_diet_recommendation\n",
        "    - action: utter_ask_diet_recommendation\n",
        "\n",
        "- rule: Provide Exercise Benefits\n",
        "  steps:\n",
        "    - intent: ask_exercise_benefits\n",
        "    - action: utter_ask_exercise_benefits\n",
        "\n",
        "- rule: Provide Glucose Monitoring Information\n",
        "  steps:\n",
        "    - intent: ask_glucose_monitoring\n",
        "    - action: utter_ask_glucose_monitoring\n",
        "\n",
        "- rule: Thank You\n",
        "  steps:\n",
        "    - intent: thank\n",
        "    - action: utter_thank\n",
        "\n",
        "- rule: Deny\n",
        "  steps:\n",
        "    - intent: deny\n",
        "    - action: utter_deny\n"
      ],
      "metadata": {
        "colab": {
          "base_uri": "https://localhost:8080/"
        },
        "id": "IvSZs4kjZuEr",
        "outputId": "43dce411-3463-4268-cad2-4f2a3319d621"
      },
      "execution_count": null,
      "outputs": [
        {
          "output_type": "stream",
          "name": "stdout",
          "text": [
            "Overwriting data/rules.yml\n"
          ]
        }
      ]
    },
    {
      "cell_type": "code",
      "execution_count": null,
      "metadata": {
        "colab": {
          "base_uri": "https://localhost:8080/"
        },
        "id": "apO_Bgle6nV0",
        "outputId": "2974242e-2f1c-4592-edf7-ef1049341c42"
      },
      "outputs": [
        {
          "output_type": "stream",
          "name": "stdout",
          "text": [
            "['endpoints.yml', 'tests', 'actions', 'domain.yml', 'credentials.yml', 'config.yml', 'data']\n"
          ]
        }
      ],
      "source": [
        "os.chdir(project)\n",
        "print(os.listdir(\".\"))"
      ]
    },
    {
      "cell_type": "code",
      "execution_count": null,
      "metadata": {
        "colab": {
          "base_uri": "https://localhost:8080/"
        },
        "id": "w1YRQuv26nOj",
        "outputId": "33315d38-83d7-49be-a0b1-9e4ff22bf515"
      },
      "outputs": [
        {
          "output_type": "stream",
          "name": "stdout",
          "text": [
            "config.yml data/ domain.yml models/\n"
          ]
        }
      ],
      "source": [
        "config = \"config.yml\"\n",
        "training_files = \"data/\"\n",
        "domain = \"domain.yml\"\n",
        "output = \"models/\"\n",
        "\n",
        "print(config, training_files, domain, output)"
      ]
    },
    {
      "cell_type": "code",
      "execution_count": null,
      "metadata": {
        "colab": {
          "base_uri": "https://localhost:8080/"
        },
        "id": "-YO9Wgub7P6D",
        "outputId": "843a324b-1215-4491-820a-2137ef77b68b"
      },
      "outputs": [
        {
          "output_type": "stream",
          "name": "stderr",
          "text": [
            "<frozen importlib._bootstrap>:283: DeprecationWarning: the load_module() method is deprecated and slated for removal in Python 3.12; use exec_module() instead\n"
          ]
        },
        {
          "output_type": "stream",
          "name": "stdout",
          "text": [
            "\u001b[94mThe configuration for policies and pipeline was chosen automatically. It was written into the config file at 'config.yml'.\u001b[0m\n"
          ]
        },
        {
          "output_type": "stream",
          "name": "stderr",
          "text": [
            "\rEpochs:   0%|          | 0/100 [00:00<?, ?it/s]/usr/lib/python3.10/random.py:370: DeprecationWarning: non-integer arguments to randrange() have been deprecated since Python 3.10 and will be removed in a subsequent version\n",
            "  return self.randrange(a, b+1)\n",
            "WARNING:tensorflow:5 out of the last 104 calls to <function Model.make_train_function.<locals>.train_function at 0x7ff6867fbe20> triggered tf.function retracing. Tracing is expensive and the excessive number of tracings could be due to (1) creating @tf.function repeatedly in a loop, (2) passing tensors with different shapes, (3) passing Python objects instead of tensors. For (1), please define your @tf.function outside of the loop. For (2), @tf.function has reduce_retracing=True option that can avoid unnecessary retracing. For (3), please refer to https://www.tensorflow.org/guide/function#controlling_retracing and https://www.tensorflow.org/api_docs/python/tf/function for  more details.\n",
            "Epochs: 100%|██████████| 100/100 [00:46<00:00,  2.15it/s, t_loss=1.14, i_acc=1]\n",
            "Processed story blocks: 100%|██████████| 3/3 [00:00<00:00, 244.45it/s, # trackers=1]\n",
            "Processed story blocks: 100%|██████████| 3/3 [00:00<00:00, 348.59it/s, # trackers=3]\n",
            "Processed story blocks: 100%|██████████| 3/3 [00:00<00:00, 87.98it/s, # trackers=12]\n",
            "Processed story blocks: 100%|██████████| 3/3 [00:00<00:00, 35.84it/s, # trackers=39]\n",
            "Processed rules: 100%|██████████| 2/2 [00:00<00:00, 302.27it/s, # trackers=1]\n",
            "Processed trackers: 100%|██████████| 3/3 [00:00<00:00, 113.16it/s, # action=12]\n",
            "Processed actions: 12it [00:00, 516.73it/s, # examples=12]\n",
            "Processed trackers: 100%|██████████| 2/2 [00:00<00:00, 174.78it/s, # action=5]\n",
            "Processed actions: 5it [00:00, 1149.31it/s, # examples=4]\n",
            "Processed trackers: 100%|██████████| 3/3 [00:00<00:00, 208.19it/s, # action=12]\n",
            "Processed trackers: 100%|██████████| 2/2 [00:00<00:00, 1207.34it/s]\n",
            "Processed trackers: 100%|██████████| 5/5 [00:00<00:00, 775.06it/s]\n",
            "Processed trackers: 100%|██████████| 120/120 [00:00<00:00, 693.37it/s, # action=30]\n",
            "/usr/local/lib/python3.10/dist-packages/rasa/utils/tensorflow/model_data.py:35: VisibleDeprecationWarning: Creating an ndarray from ragged nested sequences (which is a list-or-tuple of lists-or-tuples-or ndarrays with different lengths or shapes) is deprecated. If you meant to do this, you must specify 'dtype=object' when creating the ndarray.\n",
            "  return np.array(ragged_array)\n",
            "Epochs: 100%|██████████| 100/100 [00:29<00:00,  3.44it/s, t_loss=2.18, loss=2.02, acc=1]\n",
            "WARNING:rasa.shared.utils.common:The UnexpecTED Intent Policy is currently experimental and might change or be removed in the future 🔬 Please share your feedback on it in the forum (https://forum.rasa.com) to help us make this feature ready for production.\n",
            "Processed trackers: 100%|██████████| 120/120 [00:00<00:00, 1459.26it/s, # intent=12]\n",
            "Epochs: 100%|██████████| 100/100 [00:22<00:00,  4.41it/s, t_loss=0.123, loss=0.00766, acc=1]\n",
            "/usr/local/lib/python3.10/dist-packages/rasa/core/policies/unexpected_intent_policy.py:839: DeprecationWarning: the `interpolation=` argument to quantile was renamed to `method=`, which has additional options.\n",
            "Users of the modes 'nearest', 'lower', 'higher', or 'midpoint' are encouraged to review the method they. (Deprecated NumPy 1.22)\n",
            "  quantile_values = np.quantile(  # type: ignore[call-overload]\n"
          ]
        },
        {
          "output_type": "stream",
          "name": "stdout",
          "text": [
            "\u001b[92mYour Rasa model is trained and saved at 'models/20230529-121105-snow-embedding.tar.gz'.\u001b[0m\n"
          ]
        },
        {
          "output_type": "stream",
          "name": "stderr",
          "text": [
            "<frozen importlib._bootstrap>:283: DeprecationWarning: the load_module() method is deprecated and slated for removal in Python 3.12; use exec_module() instead\n"
          ]
        },
        {
          "output_type": "stream",
          "name": "stdout",
          "text": [
            "TrainingResult(model='models/20230529-121105-snow-embedding.tar.gz', code=0, dry_run_results=None)\n"
          ]
        }
      ],
      "source": [
        "import rasa\n",
        "\n",
        "model_path = rasa.train(domain, config, [training_files], output)\n",
        "print(model_path)\n"
      ]
    },
    {
      "cell_type": "code",
      "source": [
        "!pip show rasa\n"
      ],
      "metadata": {
        "colab": {
          "base_uri": "https://localhost:8080/"
        },
        "id": "CpxSGrgnRJRO",
        "outputId": "9c8faccf-57aa-4ce0-a4a9-27327735be1d"
      },
      "execution_count": null,
      "outputs": [
        {
          "output_type": "stream",
          "name": "stdout",
          "text": [
            "Name: rasa\n",
            "Version: 3.4.0\n",
            "Summary: Open source machine learning framework to automate text- and voice-based conversations: NLU, dialogue management, connect to Slack, Facebook, and more - Create chatbots and voice assistants\n",
            "Home-page: https://rasa.com\n",
            "Author: Rasa Technologies GmbH\n",
            "Author-email: hi@rasa.com\n",
            "License: Apache-2.0\n",
            "Location: /usr/local/lib/python3.10/dist-packages\n",
            "Requires: absl-py, aio-pika, aiogram, aiohttp, apscheduler, attrs, boto3, CacheControl, cloudpickle, colorclass, coloredlogs, colorhash, confluent-kafka, dask, fbmessenger, google-auth, joblib, jsonpickle, jsonschema, matplotlib, mattermostwrapper, networkx, numpy, packaging, pluggy, prompt-toolkit, protobuf, psycopg2-binary, pydot, PyJWT, pykwalify, pymongo, python-dateutil, python-engineio, python-socketio, pytz, questionary, randomname, rasa-sdk, redis, regex, requests, rocketchat_API, ruamel.yaml, sanic, sanic-cors, sanic-jwt, sanic-routing, scikit-learn, scipy, sentry-sdk, setuptools, sklearn-crfsuite, slack-sdk, SQLAlchemy, tarsafe, tensorflow, tensorflow-addons, tensorflow-text, tensorflow_hub, terminaltables, tqdm, twilio, typing-extensions, typing-utils, ujson, webexteamssdk\n",
            "Required-by: \n"
          ]
        }
      ]
    },
    {
      "cell_type": "code",
      "execution_count": null,
      "metadata": {
        "colab": {
          "base_uri": "https://localhost:8080/",
          "height": 900
        },
        "id": "aBsrJWjD23Sx",
        "outputId": "9deb5751-d4b6-447e-9b60-3a12dedbbdee"
      },
      "outputs": [
        {
          "output_type": "stream",
          "name": "stderr",
          "text": [
            "/usr/lib/python3.10/random.py:370: DeprecationWarning: non-integer arguments to randrange() have been deprecated since Python 3.10 and will be removed in a subsequent version\n",
            "  return self.randrange(a, b+1)\n",
            "WARNING:rasa.shared.utils.common:The UnexpecTED Intent Policy is currently experimental and might change or be removed in the future 🔬 Please share your feedback on it in the forum (https://forum.rasa.com) to help us make this feature ready for production.\n",
            "WARNING:tensorflow:5 out of the last 13 calls to <bound method RasaModel.predict_step of <rasa.core.policies.ted_policy.TED object at 0x7ff69be3fc40>> triggered tf.function retracing. Tracing is expensive and the excessive number of tracings could be due to (1) creating @tf.function repeatedly in a loop, (2) passing tensors with different shapes, (3) passing Python objects instead of tensors. For (1), please define your @tf.function outside of the loop. For (2), @tf.function has reduce_retracing=True option that can avoid unnecessary retracing. For (3), please refer to https://www.tensorflow.org/guide/function#controlling_retracing and https://www.tensorflow.org/api_docs/python/tf/function for  more details.\n"
          ]
        },
        {
          "output_type": "stream",
          "name": "stdout",
          "text": [
            "Your bot is ready to talk! Type your messages here or send '/stop'.\n",
            "hi\n",
            "\u001b[92mHey! How are you?\u001b[0m\n",
            "what are some types of diabets?\n",
            "\u001b[92mI am a bot, powered by Rasa.\u001b[0m\n",
            "I'm diabetic\n",
            "\u001b[92mHere is something to cheer you up:\u001b[0m\n"
          ]
        },
        {
          "output_type": "display_data",
          "data": {
            "text/html": [
              "<img src=\"https://i.imgur.com/nGF1K8f.jpg\"/>"
            ],
            "text/plain": [
              "<IPython.core.display.Image object>"
            ]
          },
          "metadata": {}
        },
        {
          "output_type": "stream",
          "name": "stdout",
          "text": [
            "\u001b[92mDid that help you?\u001b[0m\n"
          ]
        },
        {
          "output_type": "error",
          "ename": "KeyboardInterrupt",
          "evalue": "ignored",
          "traceback": [
            "\u001b[0;31m---------------------------------------------------------------------------\u001b[0m",
            "\u001b[0;31mKeyboardInterrupt\u001b[0m                         Traceback (most recent call last)",
            "Cell \u001b[0;32mIn[22], line 4\u001b[0m\n\u001b[1;32m      1\u001b[0m \u001b[38;5;28;01mfrom\u001b[39;00m \u001b[38;5;21;01mrasa\u001b[39;00m\u001b[38;5;21;01m.\u001b[39;00m\u001b[38;5;21;01mjupyter\u001b[39;00m \u001b[38;5;28;01mimport\u001b[39;00m chat\n\u001b[1;32m      3\u001b[0m endpoints \u001b[38;5;241m=\u001b[39m \u001b[38;5;28;01mNone\u001b[39;00m\n\u001b[0;32m----> 4\u001b[0m \u001b[43mchat\u001b[49m\u001b[43m(\u001b[49m\u001b[43mmodel_path\u001b[49m\u001b[38;5;241;43m.\u001b[39;49m\u001b[43mmodel\u001b[49m\u001b[43m,\u001b[49m\u001b[43m \u001b[49m\u001b[43mendpoints\u001b[49m\u001b[43m)\u001b[49m\n",
            "File \u001b[0;32m/usr/local/lib/python3.10/dist-packages/rasa/jupyter.py:45\u001b[0m, in \u001b[0;36mchat\u001b[0;34m(model_path, endpoints, agent)\u001b[0m\n\u001b[1;32m     43\u001b[0m \u001b[38;5;28mprint\u001b[39m(\u001b[38;5;124m\"\u001b[39m\u001b[38;5;124mYour bot is ready to talk! Type your messages here or send \u001b[39m\u001b[38;5;124m'\u001b[39m\u001b[38;5;124m/stop\u001b[39m\u001b[38;5;124m'\u001b[39m\u001b[38;5;124m.\u001b[39m\u001b[38;5;124m\"\u001b[39m)\n\u001b[1;32m     44\u001b[0m \u001b[38;5;28;01mwhile\u001b[39;00m \u001b[38;5;28;01mTrue\u001b[39;00m:\n\u001b[0;32m---> 45\u001b[0m     message \u001b[38;5;241m=\u001b[39m \u001b[38;5;28;43minput\u001b[39;49m\u001b[43m(\u001b[49m\u001b[43m)\u001b[49m\n\u001b[1;32m     46\u001b[0m     \u001b[38;5;28;01mif\u001b[39;00m message \u001b[38;5;241m==\u001b[39m \u001b[38;5;124m\"\u001b[39m\u001b[38;5;124m/stop\u001b[39m\u001b[38;5;124m\"\u001b[39m:\n\u001b[1;32m     47\u001b[0m         \u001b[38;5;28;01mbreak\u001b[39;00m\n",
            "File \u001b[0;32m/usr/local/lib/python3.10/dist-packages/ipykernel/kernelbase.py:851\u001b[0m, in \u001b[0;36mKernel.raw_input\u001b[0;34m(self, prompt)\u001b[0m\n\u001b[1;32m    847\u001b[0m \u001b[38;5;28;01mif\u001b[39;00m \u001b[38;5;129;01mnot\u001b[39;00m \u001b[38;5;28mself\u001b[39m\u001b[38;5;241m.\u001b[39m_allow_stdin:\n\u001b[1;32m    848\u001b[0m     \u001b[38;5;28;01mraise\u001b[39;00m StdinNotImplementedError(\n\u001b[1;32m    849\u001b[0m         \u001b[38;5;124m\"\u001b[39m\u001b[38;5;124mraw_input was called, but this frontend does not support input requests.\u001b[39m\u001b[38;5;124m\"\u001b[39m\n\u001b[1;32m    850\u001b[0m     )\n\u001b[0;32m--> 851\u001b[0m \u001b[38;5;28;01mreturn\u001b[39;00m \u001b[38;5;28;43mself\u001b[39;49m\u001b[38;5;241;43m.\u001b[39;49m\u001b[43m_input_request\u001b[49m\u001b[43m(\u001b[49m\u001b[38;5;28;43mstr\u001b[39;49m\u001b[43m(\u001b[49m\u001b[43mprompt\u001b[49m\u001b[43m)\u001b[49m\u001b[43m,\u001b[49m\n\u001b[1;32m    852\u001b[0m \u001b[43m    \u001b[49m\u001b[38;5;28;43mself\u001b[39;49m\u001b[38;5;241;43m.\u001b[39;49m\u001b[43m_parent_ident\u001b[49m\u001b[43m,\u001b[49m\n\u001b[1;32m    853\u001b[0m \u001b[43m    \u001b[49m\u001b[38;5;28;43mself\u001b[39;49m\u001b[38;5;241;43m.\u001b[39;49m\u001b[43m_parent_header\u001b[49m\u001b[43m,\u001b[49m\n\u001b[1;32m    854\u001b[0m \u001b[43m    \u001b[49m\u001b[43mpassword\u001b[49m\u001b[38;5;241;43m=\u001b[39;49m\u001b[38;5;28;43;01mFalse\u001b[39;49;00m\u001b[43m,\u001b[49m\n\u001b[1;32m    855\u001b[0m \u001b[43m\u001b[49m\u001b[43m)\u001b[49m\n",
            "File \u001b[0;32m/usr/local/lib/python3.10/dist-packages/ipykernel/kernelbase.py:895\u001b[0m, in \u001b[0;36mKernel._input_request\u001b[0;34m(self, prompt, ident, parent, password)\u001b[0m\n\u001b[1;32m    892\u001b[0m             \u001b[38;5;28;01mbreak\u001b[39;00m\n\u001b[1;32m    893\u001b[0m \u001b[38;5;28;01mexcept\u001b[39;00m \u001b[38;5;167;01mKeyboardInterrupt\u001b[39;00m:\n\u001b[1;32m    894\u001b[0m     \u001b[38;5;66;03m# re-raise KeyboardInterrupt, to truncate traceback\u001b[39;00m\n\u001b[0;32m--> 895\u001b[0m     \u001b[38;5;28;01mraise\u001b[39;00m \u001b[38;5;167;01mKeyboardInterrupt\u001b[39;00m(\u001b[38;5;124m\"\u001b[39m\u001b[38;5;124mInterrupted by user\u001b[39m\u001b[38;5;124m\"\u001b[39m) \u001b[38;5;28;01mfrom\u001b[39;00m \u001b[38;5;28mNone\u001b[39m\n\u001b[1;32m    896\u001b[0m \u001b[38;5;28;01mexcept\u001b[39;00m \u001b[38;5;167;01mException\u001b[39;00m \u001b[38;5;28;01mas\u001b[39;00m e:\n\u001b[1;32m    897\u001b[0m     \u001b[38;5;28mself\u001b[39m\u001b[38;5;241m.\u001b[39mlog\u001b[38;5;241m.\u001b[39mwarning(\u001b[38;5;124m\"\u001b[39m\u001b[38;5;124mInvalid Message:\u001b[39m\u001b[38;5;124m\"\u001b[39m, exc_info\u001b[38;5;241m=\u001b[39m\u001b[38;5;28;01mTrue\u001b[39;00m)\n",
            "\u001b[0;31mKeyboardInterrupt\u001b[0m: Interrupted by user"
          ]
        }
      ],
      "source": [
        "from rasa.jupyter import chat\n",
        "\n",
        "endpoints = None\n",
        "chat(model_path.model, endpoints)"
      ]
    },
    {
      "cell_type": "markdown",
      "source": [
        "# New section"
      ],
      "metadata": {
        "id": "q17VfQq5dSL4"
      }
    },
    {
      "cell_type": "code",
      "source": [
        "from google.colab import drive\n",
        "drive.mount('/content/drive')"
      ],
      "metadata": {
        "colab": {
          "base_uri": "https://localhost:8080/"
        },
        "id": "0ChI7J8ie5zr",
        "outputId": "7550b364-cf8c-4507-94f2-577ef271037a"
      },
      "execution_count": 26,
      "outputs": [
        {
          "output_type": "stream",
          "name": "stdout",
          "text": [
            "Mounted at /content/drive\n"
          ]
        }
      ]
    },
    {
      "cell_type": "code",
      "source": [
        "/content/chatbot_v1.0"
      ],
      "metadata": {
        "id": "Rgm37CtGe8r3"
      },
      "execution_count": null,
      "outputs": []
    }
  ],
  "metadata": {
    "colab": {
      "provenance": []
    },
    "kernelspec": {
      "display_name": "Python 3",
      "name": "python3"
    }
  },
  "nbformat": 4,
  "nbformat_minor": 0
}